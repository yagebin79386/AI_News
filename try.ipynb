{
 "cells": [
  {
   "cell_type": "code",
   "execution_count": 1,
   "metadata": {},
   "outputs": [
    {
     "name": "stdout",
     "output_type": "stream",
     "text": [
      "dict_items([('company_logo', 'static/images/company_logo.png'), ('phone_icon', 'static/images/phone_icon.png'), ('email_icon', 'static/images/email_icon.png'), ('web_icon', 'static/images/web_icon.png')])\n"
     ]
    }
   ],
   "source": [
    "images = {\n",
    "            'company_logo': 'static/images/company_logo.png',\n",
    "            'phone_icon': 'static/images/phone_icon.png',\n",
    "            'email_icon': 'static/images/email_icon.png',\n",
    "            'web_icon': 'static/images/web_icon.png'\n",
    "        }\n",
    "\n",
    "print(images.items())"
   ]
  },
  {
   "cell_type": "code",
   "execution_count": null,
   "metadata": {},
   "outputs": [],
   "source": []
  }
 ],
 "metadata": {
  "kernelspec": {
   "display_name": "news_crypto",
   "language": "python",
   "name": "python3"
  },
  "language_info": {
   "codemirror_mode": {
    "name": "ipython",
    "version": 3
   },
   "file_extension": ".py",
   "mimetype": "text/x-python",
   "name": "python",
   "nbconvert_exporter": "python",
   "pygments_lexer": "ipython3",
   "version": "3.13.2"
  }
 },
 "nbformat": 4,
 "nbformat_minor": 2
}
